{
 "cells": [
  {
   "cell_type": "markdown",
   "metadata": {},
   "source": [
    "# C2Score Workbench in JavaScritp/TypeScript."
   ]
  },
  {
   "cell_type": "code",
   "execution_count": 12,
   "metadata": {},
   "outputs": [],
   "source": [
    "// https://nbviewer.org/github/dbuezas/tslab-plotly/blob/master/example/notebook.ipynb\n",
    "import Plotly from 'tslab-plotly';\n",
    "import * as tslab from 'tslab';\n",
    "import { C2Utils } from './c2utils';\n",
    "import * as mysql from 'mysql';"
   ]
  },
  {
   "cell_type": "code",
   "execution_count": 13,
   "metadata": {},
   "outputs": [
    {
     "name": "stdout",
     "output_type": "stream",
     "text": [
      "Connected to MySQL Server!\n"
     ]
    }
   ],
   "source": [
    "// Connect to MySql\n",
    "const connection = mysql.createConnection({host: '10.0.0.100',user: 'c2public',password: 'c2public',database: 'c2score'});\n",
    "connection.connect((err) => {\n",
    "    if(err) throw err;\n",
    "    console.log('Connected to MySQL Server!');\n",
    "});"
   ]
  },
  {
   "cell_type": "code",
   "execution_count": 14,
   "metadata": {},
   "outputs": [
    {
     "name": "stdout",
     "output_type": "stream",
     "text": [
      "Data ready\n"
     ]
    }
   ],
   "source": [
    "// We can select just needed dtabase columns or the whole data:\n",
    "const sql = \"SELECT * from c2score_ScoringWorkbenchView;\"\n",
    "let resultArray = [];\n",
    "\n",
    "const q = connection.query(sql, (err, rows, fields) => {\n",
    "        if(err) throw err;\n",
    "        resultArray = Object.values(JSON.parse(JSON.stringify(rows)));\n",
    "        console.log(\"Data ready\");\n",
    "        connection.end();\n",
    "    });\n"
   ]
  },
  {
   "cell_type": "code",
   "execution_count": 15,
   "metadata": {},
   "outputs": [
    {
     "name": "stdout",
     "output_type": "stream",
     "text": [
      "{\n",
      "  StrategyId: \u001b[33m13202557\u001b[39m,\n",
      "  StrategyName: \u001b[32m'extreme-os'\u001b[39m,\n",
      "  Added: \u001b[32m'2005-02-17T00:00:00.000Z'\u001b[39m,\n",
      "  StartingCash: \u001b[33m10000\u001b[39m,\n",
      "  AgeDays: \u001b[33m6091.7\u001b[39m,\n",
      "  Alpha: \u001b[33m0.0628\u001b[39m,\n",
      "  Beta: \u001b[33m0.5596\u001b[39m,\n",
      "  C2Star: \u001b[1mnull\u001b[22m,\n",
      "  AnnReturn: \u001b[33m0.2826\u001b[39m,\n",
      "  Correlation_SP500: \u001b[33m0.3792\u001b[39m,\n",
      "  DailyMaxLevMax: \u001b[33m2.72\u001b[39m,\n",
      "  DailyMaxLevMean: \u001b[33m0.839638\u001b[39m,\n",
      "  DeltaEquity30Days: \u001b[33m5.64\u001b[39m,\n",
      "  DeltaEquity45Days: \u001b[33m5.16\u001b[39m,\n",
      "  DeltaEquity90Days: \u001b[33m15.89\u001b[39m,\n",
      "  DeltaEquity180Days: \u001b[33m6.72\u001b[39m,\n",
      "  MaxDrawdownPcnt: \u001b[33m63.64\u001b[39m,\n",
      "  NumTrades: \u001b[33m4206\u001b[39m,\n",
      "  PcntMonthsProfitable: \u001b[33m70.1\u001b[39m,\n",
      "  ProfitFactor: \u001b[33m1.366\u001b[39m,\n",
      "  Sharpe: \u001b[33m0.79\u001b[39m,\n",
      "  Sortino: \u001b[33m1.19\u001b[39m,\n",
      "  Calmar: \u001b[33m0.198\u001b[39m,\n",
      "  MaxDrawdownPcnt180days: \u001b[33m17.4534\u001b[39m,\n",
      "  MaxDrawdownPcnt365days: \u001b[33m37.7282\u001b[39m,\n",
      "  TradeDaysAgo: \u001b[33m0.7\u001b[39m,\n",
      "  ShortOptionsCovered: \u001b[33m100\u001b[39m,\n",
      "  OptionPercent: \u001b[33m0\u001b[39m,\n",
      "  MaxWorstLossPercentEquity015: \u001b[33m5.13\u001b[39m,\n",
      "  MaxWorstLossPercentEquity030: \u001b[33m6.63\u001b[39m,\n",
      "  MaxWorstLossPercentEquity045: \u001b[33m13.3\u001b[39m,\n",
      "  MaxWorstLossPercentEquity060: \u001b[33m13.3\u001b[39m,\n",
      "  MaxWorstLossPercentEquity090: \u001b[33m28.68\u001b[39m,\n",
      "  MaxWorstLossPercentEquity180: \u001b[33m36.54\u001b[39m\n",
      "}\n"
     ]
    }
   ],
   "source": [
    "// The first row in the resultArray:\n",
    "resultArray[0];"
   ]
  },
  {
   "cell_type": "code",
   "execution_count": 16,
   "metadata": {},
   "outputs": [
    {
     "name": "stdout",
     "output_type": "stream",
     "text": [
      "Strategies: 727. After filtering: 289\n"
     ]
    }
   ],
   "source": [
    "// Let's implement Daniil's formula in TypeScript. (It can be done by many different ways.) \n",
    "\n",
    "// Risk measure\n",
    "function riskFun(strat) {\n",
    "    const result = \n",
    "      (20 - strat.MaxDrawdownPcnt * (20/45))\n",
    "    + (strat.MaxWorstLossPercentEquity060 === null ? 0 : (20 - strat.MaxWorstLossPercentEquity060 * (20.0/8)))\n",
    "    + (10 - strat.OptionPercent * (10/1))\n",
    "    + (strat.ShortOptionsCovered >= 100 ? 10 : strat.ShortOptionsCovered / 100 * 10);\n",
    "    return result;\n",
    "}\n",
    "\n",
    "// Behavior measure\n",
    "function behavioralFun(strat) {\n",
    "    const result = \n",
    "      (strat.AgeDays >= 720 ? 40 : strat.AgeDays/720 * 40)\n",
    "    + (20 - strat.DailyMaxLevMax * (20/10)) \n",
    "    + (strat.TradeDaysAgo <= 60 ? 20 : 0)\n",
    "    + (strat.PcntMonthsProfitable >= 100 ? 5 : strat.PcntMonthsProfitable / 100 * 5)\n",
    "    + (strat.NumTrades >= 100 ? 20 : strat.NumTrades / 100 * 20)\n",
    "    + ((strat.DeltaEquity90Days <= 0 && strat.DeltaEquity90Days > -7) ? 5 : 0);\n",
    "    return result;\n",
    "}\n",
    "\n",
    "// Profitability measure\n",
    "function profitabilityFun(strat) {\n",
    "    const result = strat.AnnReturn > 0.6 ? 20 :  strat.AnnReturn / 0.6 * 20;\n",
    "    return result;\n",
    "}\n",
    "\n",
    "// Filter data by Daniil's conditions and apply the above functions.\n",
    "// Add new colums to the original data in resultArray.\n",
    "let data = resultArray\n",
    "            .filter(strat => !(strat.AgeDays < 90 || strat.AnnReturn < 0 || strat.DeltaEquity180Days < 0))\n",
    "            .map(strat => {\n",
    "                return {...strat, \n",
    "                        ...{scoreRisk:riskFun(strat)},\n",
    "                        ...{scoreBehavior: behavioralFun(strat)},\n",
    "                        ...{scoreProfitability: profitabilityFun(strat)},\n",
    "                        ...{score: (riskFun(strat) + behavioralFun(strat) + profitabilityFun(strat))}\n",
    "                       }})\n",
    "            .sort((a,b) => b.score - a.score );\n",
    "\n",
    "console.log(`Strategies: ${resultArray.length}. After filtering: ${data.length}`);"
   ]
  },
  {
   "cell_type": "code",
   "execution_count": 17,
   "metadata": {},
   "outputs": [
    {
     "name": "stdout",
     "output_type": "stream",
     "text": [
      "{\n",
      "  StrategyId: \u001b[33m128743489\u001b[39m,\n",
      "  StrategyName: \u001b[32m'JWB Stock and ETF ORB'\u001b[39m,\n",
      "  Added: \u001b[32m'2020-04-26T00:00:00.000Z'\u001b[39m,\n",
      "  StartingCash: \u001b[33m100000\u001b[39m,\n",
      "  AgeDays: \u001b[33m544.54\u001b[39m,\n",
      "  Alpha: \u001b[33m0.1137\u001b[39m,\n",
      "  Beta: \u001b[33m0.0741\u001b[39m,\n",
      "  C2Star: \u001b[1mnull\u001b[22m,\n",
      "  AnnReturn: \u001b[33m0.5414\u001b[39m,\n",
      "  Correlation_SP500: \u001b[33m0.0647\u001b[39m,\n",
      "  DailyMaxLevMax: \u001b[33m3.31\u001b[39m,\n",
      "  DailyMaxLevMean: \u001b[33m1.00381\u001b[39m,\n",
      "  DeltaEquity30Days: \u001b[33m-0.1\u001b[39m,\n",
      "  DeltaEquity45Days: \u001b[33m0.06\u001b[39m,\n",
      "  DeltaEquity90Days: \u001b[33m-3.99\u001b[39m,\n",
      "  DeltaEquity180Days: \u001b[33m4.86\u001b[39m,\n",
      "  MaxDrawdownPcnt: \u001b[33m11.39\u001b[39m,\n",
      "  NumTrades: \u001b[33m644\u001b[39m,\n",
      "  PcntMonthsProfitable: \u001b[33m68.4\u001b[39m,\n",
      "  ProfitFactor: \u001b[33m1.398\u001b[39m,\n",
      "  Sharpe: \u001b[33m1.97\u001b[39m,\n",
      "  Sortino: \u001b[33m3.3\u001b[39m,\n",
      "  Calmar: \u001b[33m7.129\u001b[39m,\n",
      "  MaxDrawdownPcnt180days: \u001b[33m6.31615\u001b[39m,\n",
      "  MaxDrawdownPcnt365days: \u001b[33m8.88536\u001b[39m,\n",
      "  TradeDaysAgo: \u001b[33m0.7\u001b[39m,\n",
      "  ShortOptionsCovered: \u001b[33m100\u001b[39m,\n",
      "  OptionPercent: \u001b[33m0\u001b[39m,\n",
      "  MaxWorstLossPercentEquity015: \u001b[33m0.79\u001b[39m,\n",
      "  MaxWorstLossPercentEquity030: \u001b[33m1.31\u001b[39m,\n",
      "  MaxWorstLossPercentEquity045: \u001b[33m1.31\u001b[39m,\n",
      "  MaxWorstLossPercentEquity060: \u001b[33m1.31\u001b[39m,\n",
      "  MaxWorstLossPercentEquity090: \u001b[33m1.71\u001b[39m,\n",
      "  MaxWorstLossPercentEquity180: \u001b[33m51.94\u001b[39m,\n",
      "  scoreRisk: \u001b[33m51.66277777777778\u001b[39m,\n",
      "  scoreBehavior: \u001b[33m92.05222222222221\u001b[39m,\n",
      "  scoreProfitability: \u001b[33m18.046666666666667\u001b[39m,\n",
      "  score: \u001b[33m161.76166666666666\u001b[39m\n",
      "}\n"
     ]
    }
   ],
   "source": [
    "// What we have now:\n",
    "data[0];"
   ]
  },
  {
   "cell_type": "code",
   "execution_count": 18,
   "metadata": {},
   "outputs": [
    {
     "name": "stdout",
     "output_type": "stream",
     "text": [
      "┌─────────┬──────────┬────────────┬────────────────────────────┬───────────┬───────────────┬────────────────────┐\n",
      "│ (index) │  Score   │ StrategyId │        StrategyName        │ scoreRisk │ scoreBehavior │ scoreProfitability │\n",
      "├─────────┼──────────┼────────────┼────────────────────────────┼───────────┼───────────────┼────────────────────┤\n",
      "│    0    │ \u001b[32m'161.76'\u001b[39m │ \u001b[33m128743489\u001b[39m  │  \u001b[32m'JWB Stock and ETF ORB'\u001b[39m   │  \u001b[32m'51.66'\u001b[39m  │    \u001b[32m'92.05'\u001b[39m    │      \u001b[32m'18.05'\u001b[39m       │\n",
      "│    1    │ \u001b[32m'161.01'\u001b[39m │ \u001b[33m126454200\u001b[39m  │  \u001b[32m'GardCap Discretionary'\u001b[39m   │  \u001b[32m'55.83'\u001b[39m  │    \u001b[32m'99.83'\u001b[39m    │       \u001b[32m'5.35'\u001b[39m       │\n",
      "│    2    │ \u001b[32m'160.07'\u001b[39m │ \u001b[33m126548162\u001b[39m  │     \u001b[32m'NASDAQ Momentum'\u001b[39m      │  \u001b[32m'54.64'\u001b[39m  │    \u001b[32m'99.26'\u001b[39m    │       \u001b[32m'6.17'\u001b[39m       │\n",
      "│    3    │ \u001b[32m'156.22'\u001b[39m │ \u001b[33m117734561\u001b[39m  │       \u001b[32m'TQQQ Aspire'\u001b[39m        │  \u001b[32m'44.55'\u001b[39m  │    \u001b[32m'94.53'\u001b[39m    │      \u001b[32m'17.14'\u001b[39m       │\n",
      "│    4    │ \u001b[32m'154.75'\u001b[39m │ \u001b[33m124696549\u001b[39m  │     \u001b[32m'4Timing Trend ML'\u001b[39m     │  \u001b[32m'51.46'\u001b[39m  │    \u001b[32m'99.49'\u001b[39m    │       \u001b[32m'3.79'\u001b[39m       │\n",
      "│    5    │ \u001b[32m'152.95'\u001b[39m │ \u001b[33m129134794\u001b[39m  │         \u001b[32m'JC Alpha'\u001b[39m         │  \u001b[32m'51.07'\u001b[39m  │    \u001b[32m'94.63'\u001b[39m    │       \u001b[32m'7.25'\u001b[39m       │\n",
      "│    6    │ \u001b[32m'152.15'\u001b[39m │ \u001b[33m125765564\u001b[39m  │   \u001b[32m'Beating billionaires'\u001b[39m   │  \u001b[32m'48.35'\u001b[39m  │    \u001b[32m'96.62'\u001b[39m    │       \u001b[32m'7.18'\u001b[39m       │\n",
      "│    7    │ \u001b[32m'150.57'\u001b[39m │ \u001b[33m126054331\u001b[39m  │       \u001b[32m'CkNN Algo V'\u001b[39m        │  \u001b[32m'33.38'\u001b[39m  │    \u001b[32m'97.54'\u001b[39m    │      \u001b[32m'19.65'\u001b[39m       │\n",
      "│    8    │ \u001b[32m'149.99'\u001b[39m │ \u001b[33m126444124\u001b[39m  │      \u001b[32m'Saivers US ETF'\u001b[39m      │  \u001b[32m'37.56'\u001b[39m  │    \u001b[32m'96.23'\u001b[39m    │      \u001b[32m'16.20'\u001b[39m       │\n",
      "│    9    │ \u001b[32m'148.13'\u001b[39m │ \u001b[33m125587405\u001b[39m  │       \u001b[32m'stock   star'\u001b[39m       │  \u001b[32m'49.32'\u001b[39m  │    \u001b[32m'82.44'\u001b[39m    │      \u001b[32m'16.37'\u001b[39m       │\n",
      "│   10    │ \u001b[32m'148.11'\u001b[39m │ \u001b[33m123231599\u001b[39m  │  \u001b[32m'SUPER15H Hedged Stocks'\u001b[39m  │  \u001b[32m'33.49'\u001b[39m  │   \u001b[32m'105.92'\u001b[39m    │       \u001b[32m'8.70'\u001b[39m       │\n",
      "│   11    │ \u001b[32m'147.73'\u001b[39m │  \u001b[33m97088697\u001b[39m  │ \u001b[32m'4Timing Machine Learning'\u001b[39m │  \u001b[32m'46.75'\u001b[39m  │    \u001b[32m'99.51'\u001b[39m    │       \u001b[32m'1.47'\u001b[39m       │\n",
      "│   12    │ \u001b[32m'147.28'\u001b[39m │ \u001b[33m125443378\u001b[39m  │      \u001b[32m'PatternProfits'\u001b[39m      │  \u001b[32m'38.28'\u001b[39m  │    \u001b[32m'99.57'\u001b[39m    │       \u001b[32m'9.43'\u001b[39m       │\n",
      "│   13    │ \u001b[32m'147.06'\u001b[39m │  \u001b[33m98995198\u001b[39m  │   \u001b[32m'Portfolio Trader PRO'\u001b[39m   │  \u001b[32m'41.88'\u001b[39m  │   \u001b[32m'100.85'\u001b[39m    │       \u001b[32m'4.33'\u001b[39m       │\n",
      "│   14    │ \u001b[32m'146.88'\u001b[39m │ \u001b[33m106004078\u001b[39m  │         \u001b[32m'BlackAce'\u001b[39m         │  \u001b[32m'47.02'\u001b[39m  │    \u001b[32m'94.11'\u001b[39m    │       \u001b[32m'5.76'\u001b[39m       │\n",
      "│   15    │ \u001b[32m'146.87'\u001b[39m │ \u001b[33m128415506\u001b[39m  │          \u001b[32m'ALPS 1'\u001b[39m          │  \u001b[32m'39.29'\u001b[39m  │    \u001b[32m'87.58'\u001b[39m    │      \u001b[32m'20.00'\u001b[39m       │\n",
      "│   16    │ \u001b[32m'145.66'\u001b[39m │  \u001b[33m77477692\u001b[39m  │  \u001b[32m'The Vegan Growth Port'\u001b[39m   │  \u001b[32m'36.72'\u001b[39m  │   \u001b[32m'103.98'\u001b[39m    │       \u001b[32m'4.96'\u001b[39m       │\n",
      "│   17    │ \u001b[32m'144.73'\u001b[39m │ \u001b[33m130576078\u001b[39m  │   \u001b[32m'10 Bagger Investing'\u001b[39m    │  \u001b[32m'41.37'\u001b[39m  │    \u001b[32m'83.35'\u001b[39m    │      \u001b[32m'20.00'\u001b[39m       │\n",
      "│   18    │ \u001b[32m'143.99'\u001b[39m │ \u001b[33m130018805\u001b[39m  │   \u001b[32m'Stocks for Div yield'\u001b[39m   │  \u001b[32m'52.31'\u001b[39m  │    \u001b[32m'86.64'\u001b[39m    │       \u001b[32m'5.04'\u001b[39m       │\n",
      "│   19    │ \u001b[32m'142.50'\u001b[39m │ \u001b[33m125624499\u001b[39m  │          \u001b[32m'dow m'\u001b[39m           │  \u001b[32m'52.12'\u001b[39m  │    \u001b[32m'70.38'\u001b[39m    │      \u001b[32m'20.00'\u001b[39m       │\n",
      "└─────────┴──────────┴────────────┴────────────────────────────┴───────────┴───────────────┴────────────────────┘\n"
     ]
    }
   ],
   "source": [
    "// Select some data and visualize it.\n",
    "let uidata = data\n",
    "            .map(i => ( \n",
    "                  {  \n",
    "                      Score: i.score.toFixed(2), \n",
    "                      StrategyId: i.StrategyId,  \n",
    "                      StrategyName: i.StrategyName, \n",
    "                      scoreRisk: i.scoreRisk.toFixed(2),\n",
    "                      scoreBehavior: i.scoreBehavior.toFixed(2),\n",
    "                      scoreProfitability: i.scoreProfitability.toFixed(2)                      \n",
    "                  })\n",
    "                )            ;\n",
    "console.table(uidata.slice(0,20));"
   ]
  },
  {
   "cell_type": "code",
   "execution_count": 19,
   "metadata": {},
   "outputs": [
    {
     "data": {
      "text/html": [
       "<table><tr><th>Score</th><th>StrategyId</th><th>StrategyName</th><th>scoreRisk</th><th>scoreBehavior</th><th>scoreProfitability</th></tr><tr><td>161.76</td><td>128743489</td><td>JWB Stock and ETF ORB</td><td>51.66</td><td>92.05</td><td>18.05</td></tr><td>161.01</td><td>126454200</td><td>GardCap Discretionary</td><td>55.83</td><td>99.83</td><td>5.35</td></tr><td>160.07</td><td>126548162</td><td>NASDAQ Momentum</td><td>54.64</td><td>99.26</td><td>6.17</td></tr><td>156.22</td><td>117734561</td><td>TQQQ Aspire</td><td>44.55</td><td>94.53</td><td>17.14</td></tr><td>154.75</td><td>124696549</td><td>4Timing Trend ML</td><td>51.46</td><td>99.49</td><td>3.79</td></tr><td>152.95</td><td>129134794</td><td>JC Alpha</td><td>51.07</td><td>94.63</td><td>7.25</td></tr><td>152.15</td><td>125765564</td><td>Beating billionaires</td><td>48.35</td><td>96.62</td><td>7.18</td></tr><td>150.57</td><td>126054331</td><td>CkNN Algo V</td><td>33.38</td><td>97.54</td><td>19.65</td></tr><td>149.99</td><td>126444124</td><td>Saivers US ETF</td><td>37.56</td><td>96.23</td><td>16.20</td></tr><td>148.13</td><td>125587405</td><td>stock   star</td><td>49.32</td><td>82.44</td><td>16.37</td></tr><td>148.11</td><td>123231599</td><td>SUPER15H Hedged Stocks</td><td>33.49</td><td>105.92</td><td>8.70</td></tr><td>147.73</td><td>97088697</td><td>4Timing Machine Learning</td><td>46.75</td><td>99.51</td><td>1.47</td></tr><td>147.28</td><td>125443378</td><td>PatternProfits</td><td>38.28</td><td>99.57</td><td>9.43</td></tr><td>147.06</td><td>98995198</td><td>Portfolio Trader PRO</td><td>41.88</td><td>100.85</td><td>4.33</td></tr><td>146.88</td><td>106004078</td><td>BlackAce</td><td>47.02</td><td>94.11</td><td>5.76</td></tr><td>146.87</td><td>128415506</td><td>ALPS 1</td><td>39.29</td><td>87.58</td><td>20.00</td></tr><td>145.66</td><td>77477692</td><td>The Vegan Growth Port</td><td>36.72</td><td>103.98</td><td>4.96</td></tr><td>144.73</td><td>130576078</td><td>10 Bagger Investing</td><td>41.37</td><td>83.35</td><td>20.00</td></tr><td>143.99</td><td>130018805</td><td>Stocks for Div yield</td><td>52.31</td><td>86.64</td><td>5.04</td></tr><td>142.50</td><td>125624499</td><td>dow m</td><td>52.12</td><td>70.38</td><td>20.00</td></tr></table>"
      ]
     },
     "metadata": {},
     "output_type": "display_data"
    }
   ],
   "source": [
    "// A little nicer presentation in a simple HTML format genereted by the C2Utils.htmlTable function:\n",
    "C2Utils.htmlTable(uidata.slice(0,20));"
   ]
  },
  {
   "cell_type": "code",
   "execution_count": 20,
   "metadata": {},
   "outputs": [
    {
     "data": {
      "text/html": [
       "<table><tr><th>Chart</th><th>Score</th><th>StrategyId</th><th>StrategyName</th><th>scoreRisk</th><th>scoreBehavior</th><th>scoreProfitability</th></tr><tr><td><img src='https://collective2.com/cgi-perl/xcharts200.mpl?want=nft&width=200&height=150&systemid=128743489'/></a></td><td>161.76</td><td>128743489</td><td>JWB Stock and ETF ORB</td><td>51.66</td><td>92.05</td><td>18.05</td></tr><td><img src='https://collective2.com/cgi-perl/xcharts200.mpl?want=nft&width=200&height=150&systemid=126454200'/></a></td><td>161.01</td><td>126454200</td><td>GardCap Discretionary</td><td>55.83</td><td>99.83</td><td>5.35</td></tr><td><img src='https://collective2.com/cgi-perl/xcharts200.mpl?want=nft&width=200&height=150&systemid=126548162'/></a></td><td>160.07</td><td>126548162</td><td>NASDAQ Momentum</td><td>54.64</td><td>99.26</td><td>6.17</td></tr><td><img src='https://collective2.com/cgi-perl/xcharts200.mpl?want=nft&width=200&height=150&systemid=117734561'/></a></td><td>156.22</td><td>117734561</td><td>TQQQ Aspire</td><td>44.55</td><td>94.53</td><td>17.14</td></tr><td><img src='https://collective2.com/cgi-perl/xcharts200.mpl?want=nft&width=200&height=150&systemid=124696549'/></a></td><td>154.75</td><td>124696549</td><td>4Timing Trend ML</td><td>51.46</td><td>99.49</td><td>3.79</td></tr><td><img src='https://collective2.com/cgi-perl/xcharts200.mpl?want=nft&width=200&height=150&systemid=129134794'/></a></td><td>152.95</td><td>129134794</td><td>JC Alpha</td><td>51.07</td><td>94.63</td><td>7.25</td></tr><td><img src='https://collective2.com/cgi-perl/xcharts200.mpl?want=nft&width=200&height=150&systemid=125765564'/></a></td><td>152.15</td><td>125765564</td><td>Beating billionaires</td><td>48.35</td><td>96.62</td><td>7.18</td></tr><td><img src='https://collective2.com/cgi-perl/xcharts200.mpl?want=nft&width=200&height=150&systemid=126054331'/></a></td><td>150.57</td><td>126054331</td><td>CkNN Algo V</td><td>33.38</td><td>97.54</td><td>19.65</td></tr><td><img src='https://collective2.com/cgi-perl/xcharts200.mpl?want=nft&width=200&height=150&systemid=126444124'/></a></td><td>149.99</td><td>126444124</td><td>Saivers US ETF</td><td>37.56</td><td>96.23</td><td>16.20</td></tr><td><img src='https://collective2.com/cgi-perl/xcharts200.mpl?want=nft&width=200&height=150&systemid=125587405'/></a></td><td>148.13</td><td>125587405</td><td>stock   star</td><td>49.32</td><td>82.44</td><td>16.37</td></tr><td><img src='https://collective2.com/cgi-perl/xcharts200.mpl?want=nft&width=200&height=150&systemid=123231599'/></a></td><td>148.11</td><td>123231599</td><td>SUPER15H Hedged Stocks</td><td>33.49</td><td>105.92</td><td>8.70</td></tr><td><img src='https://collective2.com/cgi-perl/xcharts200.mpl?want=nft&width=200&height=150&systemid=97088697'/></a></td><td>147.73</td><td>97088697</td><td>4Timing Machine Learning</td><td>46.75</td><td>99.51</td><td>1.47</td></tr><td><img src='https://collective2.com/cgi-perl/xcharts200.mpl?want=nft&width=200&height=150&systemid=125443378'/></a></td><td>147.28</td><td>125443378</td><td>PatternProfits</td><td>38.28</td><td>99.57</td><td>9.43</td></tr><td><img src='https://collective2.com/cgi-perl/xcharts200.mpl?want=nft&width=200&height=150&systemid=98995198'/></a></td><td>147.06</td><td>98995198</td><td>Portfolio Trader PRO</td><td>41.88</td><td>100.85</td><td>4.33</td></tr><td><img src='https://collective2.com/cgi-perl/xcharts200.mpl?want=nft&width=200&height=150&systemid=106004078'/></a></td><td>146.88</td><td>106004078</td><td>BlackAce</td><td>47.02</td><td>94.11</td><td>5.76</td></tr><td><img src='https://collective2.com/cgi-perl/xcharts200.mpl?want=nft&width=200&height=150&systemid=128415506'/></a></td><td>146.87</td><td>128415506</td><td>ALPS 1</td><td>39.29</td><td>87.58</td><td>20.00</td></tr><td><img src='https://collective2.com/cgi-perl/xcharts200.mpl?want=nft&width=200&height=150&systemid=77477692'/></a></td><td>145.66</td><td>77477692</td><td>The Vegan Growth Port</td><td>36.72</td><td>103.98</td><td>4.96</td></tr><td><img src='https://collective2.com/cgi-perl/xcharts200.mpl?want=nft&width=200&height=150&systemid=130576078'/></a></td><td>144.73</td><td>130576078</td><td>10 Bagger Investing</td><td>41.37</td><td>83.35</td><td>20.00</td></tr><td><img src='https://collective2.com/cgi-perl/xcharts200.mpl?want=nft&width=200&height=150&systemid=130018805'/></a></td><td>143.99</td><td>130018805</td><td>Stocks for Div yield</td><td>52.31</td><td>86.64</td><td>5.04</td></tr><td><img src='https://collective2.com/cgi-perl/xcharts200.mpl?want=nft&width=200&height=150&systemid=125624499'/></a></td><td>142.50</td><td>125624499</td><td>dow m</td><td>52.12</td><td>70.38</td><td>20.00</td></tr></table>"
      ]
     },
     "metadata": {},
     "output_type": "display_data"
    }
   ],
   "source": [
    "// Or this one:\n",
    "C2Utils.htmlTable(uidata.slice(0,20),true);"
   ]
  }
 ],
 "metadata": {
  "kernelspec": {
   "display_name": "TypeScript",
   "language": "typescript",
   "name": "tslab"
  },
  "language_info": {
   "codemirror_mode": {
    "mode": "typescript",
    "name": "javascript",
    "typescript": true
   },
   "file_extension": ".ts",
   "mimetype": "text/typescript",
   "name": "typescript",
   "version": "3.7.2"
  }
 },
 "nbformat": 4,
 "nbformat_minor": 4
}
