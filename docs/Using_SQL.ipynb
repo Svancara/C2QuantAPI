{
 "cells": [
  {
   "cell_type": "markdown",
   "metadata": {},
   "source": [
    "### Using just SQL\n",
    "\n",
    "Having a quality data in the database is sufficient for any investigation. We can use any programming language we want. \n",
    "For example, it is possible to replicate Collective2 Scoring Workbench functionality using just SQL.\n",
    "See the following examples."
   ]
  },
  {
   "cell_type": "markdown",
   "metadata": {},
   "source": [
    "#### SQL - Example 1\n",
    "\n",
    "This is an SQL code for Daniil's formula above. Using some PostgreSQL UI, we can inspect all available data of the each selected strategy. \n",
    "It's an ideal form for exploring the data in details.\n",
    "We can sorting any column up and down when we are trying to find extremes. We can modify formula or selection easily. We can filter results in IDE...\n",
    "\n",
    "If we are working with a local database, we can see results immediately. \n",
    "\n",
    "~~~sql\n",
    "#  ---------- Plain with all data  ----------\n",
    "select * from (\n",
    "\t\t\tselect\n",
    "\t\t\t    StrategyId, \n",
    "\t\t\t    StrategyName, \n",
    "\t\t\t    Added,\n",
    "\t\t\t    -- Risk\n",
    "\t\t\t    ((20 - MaxDrawdownPcnt * (20/45))\n",
    "\t\t\t    + case when MaxWorstLossPercentEquity060 is null then 0 else 20 - MaxWorstLossPercentEquity060 * (20.0/8) end  \n",
    "\t\t\t    + (10 - OptionPercent * (10/1))\n",
    "\t\t\t    + case when ShortOptionsCovered >= 100 then 10 else ShortOptionsCovered / 100 * 10 end \n",
    "\t\t\t    -- Behavior\n",
    "\t\t\t    + case when AgeDays >= 720 then 40 else AgeDays/720 * 40 end  \n",
    "\t\t\t    + (20 - DailyMaxLevMax * (20/10)) \n",
    "\t\t\t    + case when TradeDaysAgo <= 60 then 20 else 0 end\n",
    "\t\t\t    + case when PcntMonthsProfitable >= 100 then 5 else PcntMonthsProfitable / 100 * 5 end\n",
    "\t\t\t    + case when NumTrades >= 100 then 20 else NumTrades / 100 * 20 end\n",
    "\t\t\t    + case when DeltaEquity90Days <= 0 and DeltaEquity90Days > -7 then 5 else 0 end\n",
    "\t\t\t    -- Profitability \n",
    "\t\t\t    + case when AnnReturn > 0.6 then 20 else AnnReturn / 0.6 * 20 end)\n",
    "\t\t\t    as Score, \n",
    "\t\t\t    c2score_ScoringWorkbenchView.*\n",
    "\t\t\tfrom c2score_ScoringWorkbenchView\n",
    "\t\t\twhere AgeDays > 90 and AnnReturn > 0 and DeltaEquity180Days > 0\n",
    "\t\t\t) as sub\n",
    " where Score > 0\n",
    " order by Score desc;\n",
    "~~~\n",
    "\n",
    "![Image](./PostgreSQL_Daniil01_plain.png)"
   ]
  }
 ],
 "metadata": {
  "kernelspec": {
   "display_name": "Python 3",
   "language": "python",
   "name": "python3"
  },
  "language_info": {
   "codemirror_mode": {
    "name": "ipython",
    "version": 3
   },
   "file_extension": ".py",
   "mimetype": "text/x-python",
   "name": "python",
   "nbconvert_exporter": "python",
   "pygments_lexer": "ipython3",
   "version": "3.8.5"
  }
 },
 "nbformat": 4,
 "nbformat_minor": 4
}
